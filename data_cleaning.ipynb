{
 "cells": [
  {
   "cell_type": "code",
   "execution_count": 1,
   "metadata": {},
   "outputs": [],
   "source": [
    "import os \n",
    "import pandas as pd\n",
    "import numpy as np\n",
    "import psycopg2\n"
   ]
  },
  {
   "cell_type": "code",
   "execution_count": 2,
   "metadata": {},
   "outputs": [],
   "source": [
    "#find csv files in current working directory and kept it in a list\n",
    "csv_files=[]\n",
    "for file in os.listdir(os.getcwd()):\n",
    "    if file.endswith(\".csv\"):\n",
    "        csv_files.append(file)\n"
   ]
  },
  {
   "cell_type": "code",
   "execution_count": 3,
   "metadata": {},
   "outputs": [],
   "source": [
    "#make new directory containing only csv files\n",
    "\n",
    "\n",
    "#this code is wrong\n",
    "for file in csv_files:\n",
    "    #mkdir=f\"mkdir {file}\"\n",
    "    #os.system(mkdir)\n",
    "    pass\n"
   ]
  },
  {
   "cell_type": "code",
   "execution_count": 4,
   "metadata": {},
   "outputs": [
    {
     "name": "stderr",
     "output_type": "stream",
     "text": [
      "mkdir: datasets: File exists\n"
     ]
    }
   ],
   "source": [
    "#make new directory containing only csv files\n",
    "dataset_dir= \"datasets\"\n",
    "#create bash command to make new directory \n",
    "#   mkdir dataset_dir\n",
    "#error handling incase the file already exists in the directory and shows error\n",
    "try:\n",
    "    mkdir= 'mkdir {0}'.format(dataset_dir)\n",
    "    os.system(mkdir)\n",
    "except:\n",
    "    pass"
   ]
  },
  {
   "cell_type": "code",
   "execution_count": 5,
   "metadata": {},
   "outputs": [
    {
     "name": "stdout",
     "output_type": "stream",
     "text": [
      "mv 'COVID_vaccination.csv' datasets\n",
      "mv 'COVID_deaths.csv' datasets\n"
     ]
    }
   ],
   "source": [
    "#move the csv files into the new directory i.e datasets\n",
    "#using bash command\n",
    "#   mv filename directory\n",
    "for file in csv_files:\n",
    "    mv_file = \"mv '{0}' {1}\".format(file, dataset_dir)\n",
    "    os.system(mv_file)\n",
    "    print(mv_file)\n",
    "    "
   ]
  },
  {
   "cell_type": "code",
   "execution_count": 6,
   "metadata": {},
   "outputs": [],
   "source": [
    "#loading the csv file in pandas dataframe using a dictionary\n",
    "csv_datasets={}\n",
    "file_path=os.getcwd()+'/'+dataset_dir+'/'\n",
    "for file in csv_files:\n",
    "    csv_datasets[file]= pd.read_csv(file_path+file)\n",
    "    "
   ]
  },
  {
   "cell_type": "code",
   "execution_count": 7,
   "metadata": {},
   "outputs": [
    {
     "name": "stdout",
     "output_type": "stream",
     "text": [
      "Opened Database Succesfully\n",
      "covid_vaccinationcsv\n",
      "file op i mem\n",
      "file copied to db\n",
      "Opened Database Succesfully\n",
      "covid_deathscsv\n",
      "file op i mem\n",
      "file copied to db\n"
     ]
    }
   ],
   "source": [
    "#cleaning data heads\n",
    "#replacing spaces with _ and removing speacial symbols like $# etc\n",
    "for file in csv_files:\n",
    "    dataframe= csv_datasets[file]\n",
    "    clean_tbl_name=file.lower().\\\n",
    "        replace(\" \",\"_\").replace(\"#\",\"\").replace(\"$\",\"\").replace(\"~\",\"\").replace(\".\",\"\")\n",
    "    clean_tbl_name= '{0}'.format(clean_tbl_name.split(\".\")[0])\n",
    "    \n",
    "    columns=[]\n",
    "    for x in dataframe.columns:\n",
    "        if x.endswith(' '):\n",
    "            columns.append(x.strip(\" \"))\n",
    "        else:\n",
    "            columns.append(x)\n",
    "    dataframe.columns=columns\n",
    "    \n",
    "    dataframe.columns=[x.lower()\\\n",
    "        .replace(\" \",\"_\").replace(\"#\",\"\").replace(\"$\",\"\").replace(\"~\",\"\").replace(\".\",\"\") for x in dataframe.columns]\n",
    "#replacement dictionary that maps pandas datatype to SQL datatype\n",
    "    replacements={\n",
    "        'object' : 'varchar',\n",
    "        'float64':'float',\n",
    "        'int64' : 'bigint',\n",
    "        'datetime64' : 'timestamp',\n",
    "        'timedelta64[ns]' : 'varchar'\n",
    "    }\n",
    "\n",
    "#table schema\n",
    "    col_str= \",\".join(\"{} {}\".format(n,d) for (n,d) in zip(dataframe.columns, dataframe.dtypes.replace(replacements)))\n",
    "#    print(col_str)\n",
    "    con_string=\"host=localhost \\\n",
    "                dbname='COVID_Dataset'\\\n",
    "                user='postgres'\\\n",
    "                password='@ imp9841 @'\"\n",
    "    with psycopg2.connect(con_string) as conn:\n",
    "        with conn.cursor() as cursor:   \n",
    "            print(\"Opened Database Succesfully\")\n",
    "#drop duplicated tables\n",
    "            cursor.execute(\"DROP TABLE IF EXISTS {};\".format(clean_tbl_name))\n",
    "            print(clean_tbl_name)\n",
    "#create new tables\n",
    "            cursor.execute(\"CREATE TABLE IF NOT EXISTS {} ({})\".format(clean_tbl_name,col_str))\n",
    "    \n",
    "\n",
    "#insert value to table\n",
    "#save df to csv\n",
    "            dataframe.to_csv(file,header=dataframe.columns, index=False, encoding='utf-8')\n",
    "#open csv file, save it as an obj\n",
    "            myfile= open(file)\n",
    "            print('file op i mem')\n",
    "#grant permission to multiple users to access my database\n",
    "            cursor.execute('grant select on table %s to public' % clean_tbl_name)\n",
    "    \n",
    "#upload to db\n",
    "            sqlstatement= \"\"\"\n",
    "                COPY %s FROM STDIN WITH\n",
    "                CSV\n",
    "                HEADER\n",
    "                DELIMITER AS ','\n",
    "       \"\"\"\n",
    "            cursor.copy_expert(sql=sqlstatement % clean_tbl_name, file=myfile)\n",
    "            print(\"file copied to db\")\n",
    "\n",
    "    \n",
    "        \n",
    "    conn.close()\n",
    "\n",
    "\n"
   ]
  },
  {
   "cell_type": "code",
   "execution_count": null,
   "metadata": {},
   "outputs": [],
   "source": []
  }
 ],
 "metadata": {
  "kernelspec": {
   "display_name": "Python 3.10.6 ('minimal_ds2')",
   "language": "python",
   "name": "python3"
  },
  "language_info": {
   "codemirror_mode": {
    "name": "ipython",
    "version": 3
   },
   "file_extension": ".py",
   "mimetype": "text/x-python",
   "name": "python",
   "nbconvert_exporter": "python",
   "pygments_lexer": "ipython3",
   "version": "3.10.6"
  },
  "orig_nbformat": 4,
  "vscode": {
   "interpreter": {
    "hash": "95b807fe122ce9fb7aa256f7feea39816e5a3fa3f52f44513d5b364b3399c588"
   }
  }
 },
 "nbformat": 4,
 "nbformat_minor": 2
}
